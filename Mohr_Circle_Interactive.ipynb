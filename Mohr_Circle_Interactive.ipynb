{
 "cells": [
  {
   "cell_type": "code",
   "execution_count": null,
   "id": "matplotlib-widget",
   "metadata": {},
   "outputs": [],
   "source": [
    "%matplotlib widget"
   ]
  },
  {
   "cell_type": "code",
   "execution_count": null,
   "id": "mohr-circle-plot",
   "metadata": {},
   "outputs": [],
   "source": [
    "import numpy as np\n",
    "import matplotlib.pyplot as plt\n",
    "from matplotlib.widgets import Slider\n",
    "\n",
    "init_sigma_x = 80\n",
    "init_sigma_y = 20\n",
    "init_tau_xy = 30\n",
    "init_theta_deg = 0\n",
    "\n",
    "fig, ax = plt.subplots(figsize=(8, 6))\n",
    "plt.subplots_adjust(left=0.25, bottom=0.35)\n",
    "ax.set_aspect('equal')\n",
    "ax.grid(True)\n",
    "ax.set_xlabel(r"$\\sigma'$ (MPa)")\n",
    "ax.set_ylabel(r"$\\tau'$ (MPa)")\n",
    "plot_range = 150\n",
    "ax.set_xlim(-plot_range, plot_range)\n",
    "ax.set_ylim(-plot_range, plot_range)\n",
    "\n",
    "circle_plot, = ax.plot([], [], 'k--')\n",
    "point_plot, = ax.plot([], [], 'ro')\n",
    "text_box = ax.text(0.05, 0.95, '', transform=ax.transAxes, fontsize=10, verticalalignment='top')\n",
    "\n",
    "ax_sigma_x = plt.axes([0.25, 0.25, 0.65, 0.03])\n",
    "ax_sigma_y = plt.axes([0.25, 0.20, 0.65, 0.03])\n",
    "ax_tau_xy = plt.axes([0.25, 0.15, 0.65, 0.03])\n",
    "ax_theta = plt.axes([0.25, 0.10, 0.65, 0.03])\n",
    "\n",
    "s_sigma_x = Slider(ax_sigma_x, r'$\\sigma_x$', -100, 100, valinit=init_sigma_x)\n",
    "s_sigma_y = Slider(ax_sigma_y, r'$\\sigma_y$', -100, 100, valinit=init_sigma_y)\n",
    "s_tau_xy = Slider(ax_tau_xy, r'$\\tau_{xy}$', -100, 100, valinit=init_tau_xy)\n",
    "s_theta = Slider(ax_theta, r'$\\theta$ (°)', 0, 180, valinit=init_theta_deg)\n",
    "\n",
    "def update(val):\n",
    "    sigma_x = s_sigma_x.val\n",
    "    sigma_y = s_sigma_y.val\n",
    "    tau_xy = s_tau_xy.val\n",
    "    theta = np.radians(s_theta.val)\n",
    "    sigma_avg = (sigma_x + sigma_y) / 2\n",
    "    radius = np.sqrt(((sigma_x - sigma_y) / 2) ** 2 + tau_xy ** 2)\n",
    "    angles = np.linspace(0, 2 * np.pi, 300)\n",
    "    circle_x = sigma_avg + radius * np.cos(angles)\n",
    "    circle_y = radius * np.sin(angles)\n",
    "    circle_plot.set_data(circle_x, circle_y)\n",
    "    sigma_xp = sigma_avg + ((sigma_x - sigma_y) / 2) * np.cos(2 * theta) + tau_xy * np.sin(2 * theta)\n",
    "    tau_xyp = -((sigma_x - sigma_y) / 2) * np.sin(2 * theta) + tau_xy * np.cos(2 * theta)\n",
    "    point_plot.set_data([sigma_xp], [tau_xyp])\n",
    "    text_box.set_text(\n",
    "        f"$\\sigma' = {sigma_xp:.1f}$ MPa\\n"\n",
    "        f"$\\tau' = {tau_xyp:.1f}$ MPa\\n"\n",
    "        f"$\\sigma_{{prom}} = {sigma_avg:.1f}$ MPa\\n"\n",
    "        f"$R = {radius:.1f}$ MPa"\n",
    "    )\n",
    "    fig.canvas.draw_idle()\n",
    "\n",
    "s_sigma_x.on_changed(update)\n",
    "s_sigma_y.on_changed(update)\n",
    "s_tau_xy.on_changed(update)\n",
    "s_theta.on_changed(update)\n",
    "\n",
    "update(None)\n",
    "plt.show()"
   ]
  }
 ],
 "metadata": {
  "kernelspec": {
   "display_name": "Python 3",
   "language": "python",
   "name": "python3"
  },
  "language_info": {
   "name": "python"
  }
 },
 "nbformat": 4,
 "nbformat_minor": 5
}
